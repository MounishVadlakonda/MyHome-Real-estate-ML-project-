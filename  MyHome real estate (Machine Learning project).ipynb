{
  "cells": [
    {
      "cell_type": "markdown",
      "id": "c3d8670e",
      "metadata": {
        "id": "c3d8670e"
      },
      "source": [
        "## MyHome real estate Price Predictor\n"
      ]
    },
    {
      "cell_type": "code",
      "execution_count": null,
      "id": "c7ac429e",
      "metadata": {
        "id": "c7ac429e"
      },
      "outputs": [],
      "source": [
        "import pandas as pd\n"
      ]
    },
    {
      "cell_type": "code",
      "execution_count": null,
      "id": "9e2c57e9",
      "metadata": {
        "id": "9e2c57e9",
        "outputId": "743187f4-abe8-4933-da5c-47f6204872c8",
        "colab": {
          "base_uri": "https://localhost:8080/",
          "height": 206
        }
      },
      "outputs": [
        {
          "output_type": "execute_result",
          "data": {
            "text/plain": [
              "      CRIM    ZN  INDUS  CHAS    NOX     RM   AGE     DIS  RAD  TAX  PTRATIO  \\\n",
              "0  0.00632  18.0   2.31     0  0.538  6.575  65.2  4.0900    1  296     15.3   \n",
              "1  0.02731   0.0   7.07     0  0.469  6.421  78.9  4.9671    2  242     17.8   \n",
              "2  0.02729   0.0   7.07     0  0.469  7.185  61.1  4.9671    2  242     17.8   \n",
              "3  0.03237   0.0   2.18     0  0.458  6.998  45.8  6.0622    3  222     18.7   \n",
              "4  0.06905   0.0   2.18     0  0.458  7.147  54.2  6.0622    3  222     18.7   \n",
              "\n",
              "        B  LSTAT  MEDV  \n",
              "0  396.90   4.98  24.0  \n",
              "1  396.90   9.14  21.6  \n",
              "2  392.83   4.03  34.7  \n",
              "3  394.63   2.94  33.4  \n",
              "4  396.90   5.33  36.2  "
            ],
            "text/html": [
              "\n",
              "  <div id=\"df-844749ee-c50b-4271-924c-74da21a035b8\">\n",
              "    <div class=\"colab-df-container\">\n",
              "      <div>\n",
              "<style scoped>\n",
              "    .dataframe tbody tr th:only-of-type {\n",
              "        vertical-align: middle;\n",
              "    }\n",
              "\n",
              "    .dataframe tbody tr th {\n",
              "        vertical-align: top;\n",
              "    }\n",
              "\n",
              "    .dataframe thead th {\n",
              "        text-align: right;\n",
              "    }\n",
              "</style>\n",
              "<table border=\"1\" class=\"dataframe\">\n",
              "  <thead>\n",
              "    <tr style=\"text-align: right;\">\n",
              "      <th></th>\n",
              "      <th>CRIM</th>\n",
              "      <th>ZN</th>\n",
              "      <th>INDUS</th>\n",
              "      <th>CHAS</th>\n",
              "      <th>NOX</th>\n",
              "      <th>RM</th>\n",
              "      <th>AGE</th>\n",
              "      <th>DIS</th>\n",
              "      <th>RAD</th>\n",
              "      <th>TAX</th>\n",
              "      <th>PTRATIO</th>\n",
              "      <th>B</th>\n",
              "      <th>LSTAT</th>\n",
              "      <th>MEDV</th>\n",
              "    </tr>\n",
              "  </thead>\n",
              "  <tbody>\n",
              "    <tr>\n",
              "      <th>0</th>\n",
              "      <td>0.00632</td>\n",
              "      <td>18.0</td>\n",
              "      <td>2.31</td>\n",
              "      <td>0</td>\n",
              "      <td>0.538</td>\n",
              "      <td>6.575</td>\n",
              "      <td>65.2</td>\n",
              "      <td>4.0900</td>\n",
              "      <td>1</td>\n",
              "      <td>296</td>\n",
              "      <td>15.3</td>\n",
              "      <td>396.90</td>\n",
              "      <td>4.98</td>\n",
              "      <td>24.0</td>\n",
              "    </tr>\n",
              "    <tr>\n",
              "      <th>1</th>\n",
              "      <td>0.02731</td>\n",
              "      <td>0.0</td>\n",
              "      <td>7.07</td>\n",
              "      <td>0</td>\n",
              "      <td>0.469</td>\n",
              "      <td>6.421</td>\n",
              "      <td>78.9</td>\n",
              "      <td>4.9671</td>\n",
              "      <td>2</td>\n",
              "      <td>242</td>\n",
              "      <td>17.8</td>\n",
              "      <td>396.90</td>\n",
              "      <td>9.14</td>\n",
              "      <td>21.6</td>\n",
              "    </tr>\n",
              "    <tr>\n",
              "      <th>2</th>\n",
              "      <td>0.02729</td>\n",
              "      <td>0.0</td>\n",
              "      <td>7.07</td>\n",
              "      <td>0</td>\n",
              "      <td>0.469</td>\n",
              "      <td>7.185</td>\n",
              "      <td>61.1</td>\n",
              "      <td>4.9671</td>\n",
              "      <td>2</td>\n",
              "      <td>242</td>\n",
              "      <td>17.8</td>\n",
              "      <td>392.83</td>\n",
              "      <td>4.03</td>\n",
              "      <td>34.7</td>\n",
              "    </tr>\n",
              "    <tr>\n",
              "      <th>3</th>\n",
              "      <td>0.03237</td>\n",
              "      <td>0.0</td>\n",
              "      <td>2.18</td>\n",
              "      <td>0</td>\n",
              "      <td>0.458</td>\n",
              "      <td>6.998</td>\n",
              "      <td>45.8</td>\n",
              "      <td>6.0622</td>\n",
              "      <td>3</td>\n",
              "      <td>222</td>\n",
              "      <td>18.7</td>\n",
              "      <td>394.63</td>\n",
              "      <td>2.94</td>\n",
              "      <td>33.4</td>\n",
              "    </tr>\n",
              "    <tr>\n",
              "      <th>4</th>\n",
              "      <td>0.06905</td>\n",
              "      <td>0.0</td>\n",
              "      <td>2.18</td>\n",
              "      <td>0</td>\n",
              "      <td>0.458</td>\n",
              "      <td>7.147</td>\n",
              "      <td>54.2</td>\n",
              "      <td>6.0622</td>\n",
              "      <td>3</td>\n",
              "      <td>222</td>\n",
              "      <td>18.7</td>\n",
              "      <td>396.90</td>\n",
              "      <td>5.33</td>\n",
              "      <td>36.2</td>\n",
              "    </tr>\n",
              "  </tbody>\n",
              "</table>\n",
              "</div>\n",
              "      <button class=\"colab-df-convert\" onclick=\"convertToInteractive('df-844749ee-c50b-4271-924c-74da21a035b8')\"\n",
              "              title=\"Convert this dataframe to an interactive table.\"\n",
              "              style=\"display:none;\">\n",
              "        \n",
              "  <svg xmlns=\"http://www.w3.org/2000/svg\" height=\"24px\"viewBox=\"0 0 24 24\"\n",
              "       width=\"24px\">\n",
              "    <path d=\"M0 0h24v24H0V0z\" fill=\"none\"/>\n",
              "    <path d=\"M18.56 5.44l.94 2.06.94-2.06 2.06-.94-2.06-.94-.94-2.06-.94 2.06-2.06.94zm-11 1L8.5 8.5l.94-2.06 2.06-.94-2.06-.94L8.5 2.5l-.94 2.06-2.06.94zm10 10l.94 2.06.94-2.06 2.06-.94-2.06-.94-.94-2.06-.94 2.06-2.06.94z\"/><path d=\"M17.41 7.96l-1.37-1.37c-.4-.4-.92-.59-1.43-.59-.52 0-1.04.2-1.43.59L10.3 9.45l-7.72 7.72c-.78.78-.78 2.05 0 2.83L4 21.41c.39.39.9.59 1.41.59.51 0 1.02-.2 1.41-.59l7.78-7.78 2.81-2.81c.8-.78.8-2.07 0-2.86zM5.41 20L4 18.59l7.72-7.72 1.47 1.35L5.41 20z\"/>\n",
              "  </svg>\n",
              "      </button>\n",
              "      \n",
              "  <style>\n",
              "    .colab-df-container {\n",
              "      display:flex;\n",
              "      flex-wrap:wrap;\n",
              "      gap: 12px;\n",
              "    }\n",
              "\n",
              "    .colab-df-convert {\n",
              "      background-color: #E8F0FE;\n",
              "      border: none;\n",
              "      border-radius: 50%;\n",
              "      cursor: pointer;\n",
              "      display: none;\n",
              "      fill: #1967D2;\n",
              "      height: 32px;\n",
              "      padding: 0 0 0 0;\n",
              "      width: 32px;\n",
              "    }\n",
              "\n",
              "    .colab-df-convert:hover {\n",
              "      background-color: #E2EBFA;\n",
              "      box-shadow: 0px 1px 2px rgba(60, 64, 67, 0.3), 0px 1px 3px 1px rgba(60, 64, 67, 0.15);\n",
              "      fill: #174EA6;\n",
              "    }\n",
              "\n",
              "    [theme=dark] .colab-df-convert {\n",
              "      background-color: #3B4455;\n",
              "      fill: #D2E3FC;\n",
              "    }\n",
              "\n",
              "    [theme=dark] .colab-df-convert:hover {\n",
              "      background-color: #434B5C;\n",
              "      box-shadow: 0px 1px 3px 1px rgba(0, 0, 0, 0.15);\n",
              "      filter: drop-shadow(0px 1px 2px rgba(0, 0, 0, 0.3));\n",
              "      fill: #FFFFFF;\n",
              "    }\n",
              "  </style>\n",
              "\n",
              "      <script>\n",
              "        const buttonEl =\n",
              "          document.querySelector('#df-844749ee-c50b-4271-924c-74da21a035b8 button.colab-df-convert');\n",
              "        buttonEl.style.display =\n",
              "          google.colab.kernel.accessAllowed ? 'block' : 'none';\n",
              "\n",
              "        async function convertToInteractive(key) {\n",
              "          const element = document.querySelector('#df-844749ee-c50b-4271-924c-74da21a035b8');\n",
              "          const dataTable =\n",
              "            await google.colab.kernel.invokeFunction('convertToInteractive',\n",
              "                                                     [key], {});\n",
              "          if (!dataTable) return;\n",
              "\n",
              "          const docLinkHtml = 'Like what you see? Visit the ' +\n",
              "            '<a target=\"_blank\" href=https://colab.research.google.com/notebooks/data_table.ipynb>data table notebook</a>'\n",
              "            + ' to learn more about interactive tables.';\n",
              "          element.innerHTML = '';\n",
              "          dataTable['output_type'] = 'display_data';\n",
              "          await google.colab.output.renderOutput(dataTable, element);\n",
              "          const docLink = document.createElement('div');\n",
              "          docLink.innerHTML = docLinkHtml;\n",
              "          element.appendChild(docLink);\n",
              "        }\n",
              "      </script>\n",
              "    </div>\n",
              "  </div>\n",
              "  "
            ]
          },
          "metadata": {},
          "execution_count": 122
        }
      ],
      "source": [
        "housing = pd.read_csv(\"/content/sample_data/data.csv\")\n",
        "housing.head()"
      ]
    },
    {
      "cell_type": "code",
      "execution_count": null,
      "id": "1481f547",
      "metadata": {
        "id": "1481f547",
        "outputId": "02f24b21-3de0-486a-b61a-6cf0dcefbeb2",
        "colab": {
          "base_uri": "https://localhost:8080/"
        }
      },
      "outputs": [
        {
          "output_type": "execute_result",
          "data": {
            "text/plain": [
              "0    471\n",
              "1     35\n",
              "Name: CHAS, dtype: int64"
            ]
          },
          "metadata": {},
          "execution_count": 123
        }
      ],
      "source": [
        "housing[\"CHAS\"].value_counts()"
      ]
    },
    {
      "cell_type": "code",
      "execution_count": null,
      "id": "13679926",
      "metadata": {
        "id": "13679926",
        "outputId": "77cecf9d-c331-4e45-ccc7-2de2343788da",
        "colab": {
          "base_uri": "https://localhost:8080/",
          "height": 364
        }
      },
      "outputs": [
        {
          "output_type": "execute_result",
          "data": {
            "text/plain": [
              "             CRIM          ZN       INDUS        CHAS         NOX          RM  \\\n",
              "count  506.000000  506.000000  506.000000  506.000000  506.000000  501.000000   \n",
              "mean     3.613524   11.363636   11.136779    0.069170    0.554695    6.284341   \n",
              "std      8.601545   23.322453    6.860353    0.253994    0.115878    0.705587   \n",
              "min      0.006320    0.000000    0.460000    0.000000    0.385000    3.561000   \n",
              "25%      0.082045    0.000000    5.190000    0.000000    0.449000    5.884000   \n",
              "50%      0.256510    0.000000    9.690000    0.000000    0.538000    6.208000   \n",
              "75%      3.677083   12.500000   18.100000    0.000000    0.624000    6.625000   \n",
              "max     88.976200  100.000000   27.740000    1.000000    0.871000    8.780000   \n",
              "\n",
              "              AGE         DIS         RAD         TAX     PTRATIO           B  \\\n",
              "count  506.000000  506.000000  506.000000  506.000000  506.000000  506.000000   \n",
              "mean    68.574901    3.795043    9.549407  408.237154   18.455534  356.674032   \n",
              "std     28.148861    2.105710    8.707259  168.537116    2.164946   91.294864   \n",
              "min      2.900000    1.129600    1.000000  187.000000   12.600000    0.320000   \n",
              "25%     45.025000    2.100175    4.000000  279.000000   17.400000  375.377500   \n",
              "50%     77.500000    3.207450    5.000000  330.000000   19.050000  391.440000   \n",
              "75%     94.075000    5.188425   24.000000  666.000000   20.200000  396.225000   \n",
              "max    100.000000   12.126500   24.000000  711.000000   22.000000  396.900000   \n",
              "\n",
              "            LSTAT        MEDV  \n",
              "count  506.000000  506.000000  \n",
              "mean    12.653063   22.532806  \n",
              "std      7.141062    9.197104  \n",
              "min      1.730000    5.000000  \n",
              "25%      6.950000   17.025000  \n",
              "50%     11.360000   21.200000  \n",
              "75%     16.955000   25.000000  \n",
              "max     37.970000   50.000000  "
            ],
            "text/html": [
              "\n",
              "  <div id=\"df-97672ec0-c1e7-458a-abe5-81de7b50e9c5\">\n",
              "    <div class=\"colab-df-container\">\n",
              "      <div>\n",
              "<style scoped>\n",
              "    .dataframe tbody tr th:only-of-type {\n",
              "        vertical-align: middle;\n",
              "    }\n",
              "\n",
              "    .dataframe tbody tr th {\n",
              "        vertical-align: top;\n",
              "    }\n",
              "\n",
              "    .dataframe thead th {\n",
              "        text-align: right;\n",
              "    }\n",
              "</style>\n",
              "<table border=\"1\" class=\"dataframe\">\n",
              "  <thead>\n",
              "    <tr style=\"text-align: right;\">\n",
              "      <th></th>\n",
              "      <th>CRIM</th>\n",
              "      <th>ZN</th>\n",
              "      <th>INDUS</th>\n",
              "      <th>CHAS</th>\n",
              "      <th>NOX</th>\n",
              "      <th>RM</th>\n",
              "      <th>AGE</th>\n",
              "      <th>DIS</th>\n",
              "      <th>RAD</th>\n",
              "      <th>TAX</th>\n",
              "      <th>PTRATIO</th>\n",
              "      <th>B</th>\n",
              "      <th>LSTAT</th>\n",
              "      <th>MEDV</th>\n",
              "    </tr>\n",
              "  </thead>\n",
              "  <tbody>\n",
              "    <tr>\n",
              "      <th>count</th>\n",
              "      <td>506.000000</td>\n",
              "      <td>506.000000</td>\n",
              "      <td>506.000000</td>\n",
              "      <td>506.000000</td>\n",
              "      <td>506.000000</td>\n",
              "      <td>501.000000</td>\n",
              "      <td>506.000000</td>\n",
              "      <td>506.000000</td>\n",
              "      <td>506.000000</td>\n",
              "      <td>506.000000</td>\n",
              "      <td>506.000000</td>\n",
              "      <td>506.000000</td>\n",
              "      <td>506.000000</td>\n",
              "      <td>506.000000</td>\n",
              "    </tr>\n",
              "    <tr>\n",
              "      <th>mean</th>\n",
              "      <td>3.613524</td>\n",
              "      <td>11.363636</td>\n",
              "      <td>11.136779</td>\n",
              "      <td>0.069170</td>\n",
              "      <td>0.554695</td>\n",
              "      <td>6.284341</td>\n",
              "      <td>68.574901</td>\n",
              "      <td>3.795043</td>\n",
              "      <td>9.549407</td>\n",
              "      <td>408.237154</td>\n",
              "      <td>18.455534</td>\n",
              "      <td>356.674032</td>\n",
              "      <td>12.653063</td>\n",
              "      <td>22.532806</td>\n",
              "    </tr>\n",
              "    <tr>\n",
              "      <th>std</th>\n",
              "      <td>8.601545</td>\n",
              "      <td>23.322453</td>\n",
              "      <td>6.860353</td>\n",
              "      <td>0.253994</td>\n",
              "      <td>0.115878</td>\n",
              "      <td>0.705587</td>\n",
              "      <td>28.148861</td>\n",
              "      <td>2.105710</td>\n",
              "      <td>8.707259</td>\n",
              "      <td>168.537116</td>\n",
              "      <td>2.164946</td>\n",
              "      <td>91.294864</td>\n",
              "      <td>7.141062</td>\n",
              "      <td>9.197104</td>\n",
              "    </tr>\n",
              "    <tr>\n",
              "      <th>min</th>\n",
              "      <td>0.006320</td>\n",
              "      <td>0.000000</td>\n",
              "      <td>0.460000</td>\n",
              "      <td>0.000000</td>\n",
              "      <td>0.385000</td>\n",
              "      <td>3.561000</td>\n",
              "      <td>2.900000</td>\n",
              "      <td>1.129600</td>\n",
              "      <td>1.000000</td>\n",
              "      <td>187.000000</td>\n",
              "      <td>12.600000</td>\n",
              "      <td>0.320000</td>\n",
              "      <td>1.730000</td>\n",
              "      <td>5.000000</td>\n",
              "    </tr>\n",
              "    <tr>\n",
              "      <th>25%</th>\n",
              "      <td>0.082045</td>\n",
              "      <td>0.000000</td>\n",
              "      <td>5.190000</td>\n",
              "      <td>0.000000</td>\n",
              "      <td>0.449000</td>\n",
              "      <td>5.884000</td>\n",
              "      <td>45.025000</td>\n",
              "      <td>2.100175</td>\n",
              "      <td>4.000000</td>\n",
              "      <td>279.000000</td>\n",
              "      <td>17.400000</td>\n",
              "      <td>375.377500</td>\n",
              "      <td>6.950000</td>\n",
              "      <td>17.025000</td>\n",
              "    </tr>\n",
              "    <tr>\n",
              "      <th>50%</th>\n",
              "      <td>0.256510</td>\n",
              "      <td>0.000000</td>\n",
              "      <td>9.690000</td>\n",
              "      <td>0.000000</td>\n",
              "      <td>0.538000</td>\n",
              "      <td>6.208000</td>\n",
              "      <td>77.500000</td>\n",
              "      <td>3.207450</td>\n",
              "      <td>5.000000</td>\n",
              "      <td>330.000000</td>\n",
              "      <td>19.050000</td>\n",
              "      <td>391.440000</td>\n",
              "      <td>11.360000</td>\n",
              "      <td>21.200000</td>\n",
              "    </tr>\n",
              "    <tr>\n",
              "      <th>75%</th>\n",
              "      <td>3.677083</td>\n",
              "      <td>12.500000</td>\n",
              "      <td>18.100000</td>\n",
              "      <td>0.000000</td>\n",
              "      <td>0.624000</td>\n",
              "      <td>6.625000</td>\n",
              "      <td>94.075000</td>\n",
              "      <td>5.188425</td>\n",
              "      <td>24.000000</td>\n",
              "      <td>666.000000</td>\n",
              "      <td>20.200000</td>\n",
              "      <td>396.225000</td>\n",
              "      <td>16.955000</td>\n",
              "      <td>25.000000</td>\n",
              "    </tr>\n",
              "    <tr>\n",
              "      <th>max</th>\n",
              "      <td>88.976200</td>\n",
              "      <td>100.000000</td>\n",
              "      <td>27.740000</td>\n",
              "      <td>1.000000</td>\n",
              "      <td>0.871000</td>\n",
              "      <td>8.780000</td>\n",
              "      <td>100.000000</td>\n",
              "      <td>12.126500</td>\n",
              "      <td>24.000000</td>\n",
              "      <td>711.000000</td>\n",
              "      <td>22.000000</td>\n",
              "      <td>396.900000</td>\n",
              "      <td>37.970000</td>\n",
              "      <td>50.000000</td>\n",
              "    </tr>\n",
              "  </tbody>\n",
              "</table>\n",
              "</div>\n",
              "      <button class=\"colab-df-convert\" onclick=\"convertToInteractive('df-97672ec0-c1e7-458a-abe5-81de7b50e9c5')\"\n",
              "              title=\"Convert this dataframe to an interactive table.\"\n",
              "              style=\"display:none;\">\n",
              "        \n",
              "  <svg xmlns=\"http://www.w3.org/2000/svg\" height=\"24px\"viewBox=\"0 0 24 24\"\n",
              "       width=\"24px\">\n",
              "    <path d=\"M0 0h24v24H0V0z\" fill=\"none\"/>\n",
              "    <path d=\"M18.56 5.44l.94 2.06.94-2.06 2.06-.94-2.06-.94-.94-2.06-.94 2.06-2.06.94zm-11 1L8.5 8.5l.94-2.06 2.06-.94-2.06-.94L8.5 2.5l-.94 2.06-2.06.94zm10 10l.94 2.06.94-2.06 2.06-.94-2.06-.94-.94-2.06-.94 2.06-2.06.94z\"/><path d=\"M17.41 7.96l-1.37-1.37c-.4-.4-.92-.59-1.43-.59-.52 0-1.04.2-1.43.59L10.3 9.45l-7.72 7.72c-.78.78-.78 2.05 0 2.83L4 21.41c.39.39.9.59 1.41.59.51 0 1.02-.2 1.41-.59l7.78-7.78 2.81-2.81c.8-.78.8-2.07 0-2.86zM5.41 20L4 18.59l7.72-7.72 1.47 1.35L5.41 20z\"/>\n",
              "  </svg>\n",
              "      </button>\n",
              "      \n",
              "  <style>\n",
              "    .colab-df-container {\n",
              "      display:flex;\n",
              "      flex-wrap:wrap;\n",
              "      gap: 12px;\n",
              "    }\n",
              "\n",
              "    .colab-df-convert {\n",
              "      background-color: #E8F0FE;\n",
              "      border: none;\n",
              "      border-radius: 50%;\n",
              "      cursor: pointer;\n",
              "      display: none;\n",
              "      fill: #1967D2;\n",
              "      height: 32px;\n",
              "      padding: 0 0 0 0;\n",
              "      width: 32px;\n",
              "    }\n",
              "\n",
              "    .colab-df-convert:hover {\n",
              "      background-color: #E2EBFA;\n",
              "      box-shadow: 0px 1px 2px rgba(60, 64, 67, 0.3), 0px 1px 3px 1px rgba(60, 64, 67, 0.15);\n",
              "      fill: #174EA6;\n",
              "    }\n",
              "\n",
              "    [theme=dark] .colab-df-convert {\n",
              "      background-color: #3B4455;\n",
              "      fill: #D2E3FC;\n",
              "    }\n",
              "\n",
              "    [theme=dark] .colab-df-convert:hover {\n",
              "      background-color: #434B5C;\n",
              "      box-shadow: 0px 1px 3px 1px rgba(0, 0, 0, 0.15);\n",
              "      filter: drop-shadow(0px 1px 2px rgba(0, 0, 0, 0.3));\n",
              "      fill: #FFFFFF;\n",
              "    }\n",
              "  </style>\n",
              "\n",
              "      <script>\n",
              "        const buttonEl =\n",
              "          document.querySelector('#df-97672ec0-c1e7-458a-abe5-81de7b50e9c5 button.colab-df-convert');\n",
              "        buttonEl.style.display =\n",
              "          google.colab.kernel.accessAllowed ? 'block' : 'none';\n",
              "\n",
              "        async function convertToInteractive(key) {\n",
              "          const element = document.querySelector('#df-97672ec0-c1e7-458a-abe5-81de7b50e9c5');\n",
              "          const dataTable =\n",
              "            await google.colab.kernel.invokeFunction('convertToInteractive',\n",
              "                                                     [key], {});\n",
              "          if (!dataTable) return;\n",
              "\n",
              "          const docLinkHtml = 'Like what you see? Visit the ' +\n",
              "            '<a target=\"_blank\" href=https://colab.research.google.com/notebooks/data_table.ipynb>data table notebook</a>'\n",
              "            + ' to learn more about interactive tables.';\n",
              "          element.innerHTML = '';\n",
              "          dataTable['output_type'] = 'display_data';\n",
              "          await google.colab.output.renderOutput(dataTable, element);\n",
              "          const docLink = document.createElement('div');\n",
              "          docLink.innerHTML = docLinkHtml;\n",
              "          element.appendChild(docLink);\n",
              "        }\n",
              "      </script>\n",
              "    </div>\n",
              "  </div>\n",
              "  "
            ]
          },
          "metadata": {},
          "execution_count": 124
        }
      ],
      "source": [
        "housing.describe()"
      ]
    },
    {
      "cell_type": "code",
      "execution_count": null,
      "id": "6811a650",
      "metadata": {
        "id": "6811a650"
      },
      "outputs": [],
      "source": [
        "# %matplotlib inline\n",
        "# import matplotlib.pyplot as plt\n",
        "# housing.hist(bins=50, figsize=(20,15))\n",
        "# plt.show() "
      ]
    },
    {
      "cell_type": "markdown",
      "id": "7d3d8ec1",
      "metadata": {
        "id": "7d3d8ec1"
      },
      "source": [
        "## Train test splitting\n",
        "\n"
      ]
    },
    {
      "cell_type": "code",
      "execution_count": null,
      "id": "671ce047",
      "metadata": {
        "id": "671ce047"
      },
      "outputs": [],
      "source": [
        "import numpy as np\n",
        "# manual training and testing\n",
        "def split_train_test(data, test_ratio):\n",
        "    np.random.seed(42)      #  this ensures that random values are fixed and not change every time\n",
        "    shuffled=np.random.permutation(len(data))\n",
        "    test_set_size=int(len(data)*test_ratio)\n",
        "    test_indices=shuffled[:20]\n",
        "    train_indices=shuffled[20:]\n",
        "    return data.iloc[train_indices], data.iloc[test_indices]\n",
        "\n",
        "# train_set, test_set = split_train_test(housing, 0.2)    "
      ]
    },
    {
      "cell_type": "code",
      "execution_count": null,
      "id": "fc7b2330",
      "metadata": {
        "id": "fc7b2330"
      },
      "outputs": [],
      "source": [
        "# training and testing by help of inbuilt fn\n",
        "from sklearn.model_selection import train_test_split\n",
        "train_set, test_set = train_test_split(housing, test_size=0.2, random_state=42)\n",
        "\n",
        "\n",
        "# here there is a problem, for eg CHAS hos only two values 0 and 1, 0-475 and 1-35\n",
        "# but in spliting train and test data suppose traindata = 402, testdata=104\n",
        "# if there are no 1's in train data then our program forms wrong pattern that \n",
        "# there is only one possibility of CHAS i.e, 1"
      ]
    },
    {
      "cell_type": "code",
      "execution_count": null,
      "id": "562d867d",
      "metadata": {
        "id": "562d867d"
      },
      "outputs": [],
      "source": [
        "# to solve above problem\n",
        "from sklearn.model_selection import StratifiedShuffleSplit\n",
        "split = StratifiedShuffleSplit(n_splits=1, test_size=0.2, random_state=42)\n",
        "for train_index, test_index in split.split(housing, housing['CHAS']):\n",
        "    strat_train_set = housing.loc[train_index]\n",
        "    strat_test_set = housing.loc[test_index]"
      ]
    },
    {
      "cell_type": "code",
      "execution_count": null,
      "id": "2e8ff63d",
      "metadata": {
        "id": "2e8ff63d",
        "outputId": "64cd5873-c917-47c5-e164-1f7d1b9db1c6",
        "colab": {
          "base_uri": "https://localhost:8080/"
        }
      },
      "outputs": [
        {
          "output_type": "execute_result",
          "data": {
            "text/plain": [
              "0    95\n",
              "1     7\n",
              "Name: CHAS, dtype: int64"
            ]
          },
          "metadata": {},
          "execution_count": 129
        }
      ],
      "source": [
        "strat_test_set['CHAS'].value_counts()"
      ]
    },
    {
      "cell_type": "code",
      "execution_count": null,
      "id": "1c174dc6",
      "metadata": {
        "id": "1c174dc6",
        "outputId": "f0db7708-e99e-4bff-bf7f-640e284e4d55",
        "colab": {
          "base_uri": "https://localhost:8080/"
        }
      },
      "outputs": [
        {
          "output_type": "execute_result",
          "data": {
            "text/plain": [
              "0    376\n",
              "1     28\n",
              "Name: CHAS, dtype: int64"
            ]
          },
          "metadata": {},
          "execution_count": 130
        }
      ],
      "source": [
        "strat_train_set['CHAS'].value_counts()"
      ]
    },
    {
      "cell_type": "code",
      "execution_count": null,
      "id": "2d7060ef",
      "metadata": {
        "id": "2d7060ef"
      },
      "outputs": [],
      "source": [
        "# 95/7 ~= 376/28"
      ]
    },
    {
      "cell_type": "code",
      "execution_count": null,
      "id": "d33179c3",
      "metadata": {
        "id": "d33179c3"
      },
      "outputs": [],
      "source": [
        "housing = strat_train_set.copy() #this is to be done for large data and not include test data in it"
      ]
    },
    {
      "cell_type": "markdown",
      "id": "de60e67c",
      "metadata": {
        "id": "de60e67c"
      },
      "source": [
        "## Looking for correlations"
      ]
    },
    {
      "cell_type": "code",
      "execution_count": null,
      "id": "6312cf28",
      "metadata": {
        "id": "6312cf28",
        "outputId": "41b77525-5450-42ad-8d07-3c5bd7564f45",
        "colab": {
          "base_uri": "https://localhost:8080/"
        }
      },
      "outputs": [
        {
          "output_type": "execute_result",
          "data": {
            "text/plain": [
              "MEDV       1.000000\n",
              "RM         0.680857\n",
              "B          0.361761\n",
              "ZN         0.339741\n",
              "DIS        0.240451\n",
              "CHAS       0.205066\n",
              "AGE       -0.364596\n",
              "RAD       -0.374693\n",
              "CRIM      -0.393715\n",
              "NOX       -0.422873\n",
              "TAX       -0.456657\n",
              "INDUS     -0.473516\n",
              "PTRATIO   -0.493534\n",
              "LSTAT     -0.740494\n",
              "Name: MEDV, dtype: float64"
            ]
          },
          "metadata": {},
          "execution_count": 133
        }
      ],
      "source": [
        "corr_matrix = housing.corr()\n",
        "corr_matrix['MEDV'].sort_values(ascending=False)"
      ]
    },
    {
      "cell_type": "code",
      "execution_count": null,
      "id": "558da986",
      "metadata": {
        "id": "558da986"
      },
      "outputs": [],
      "source": [
        "# if value is 1 meaning strong positive correlation\n",
        "# if value is -1 meaning strong negative correlation\n",
        "# next Rm value is 0.69 which is high positive correlation which means if RM increases chances\n",
        "# of increasing MEDV increases, then ZN and B are weak positive correlation\n",
        "# similarly lstat is high neg corr, lesser value of lstat higher value of medv"
      ]
    },
    {
      "cell_type": "code",
      "execution_count": null,
      "id": "0bf1f111",
      "metadata": {
        "id": "0bf1f111"
      },
      "outputs": [],
      "source": [
        "# from pandas.plotting import scatter_matrix\n",
        "# attributes = [\"MEDV\", \"RM\",\"ZN\",\"LSTAT\"]\n",
        "# scatter_matrix(housing[attributes], figsize=(12,8))"
      ]
    },
    {
      "cell_type": "code",
      "execution_count": null,
      "id": "f6fd00dd",
      "metadata": {
        "id": "f6fd00dd"
      },
      "outputs": [],
      "source": [
        "# housing.plot(kind=\"scatter\", x=\"RM\",y=\"MEDV\",alpha=0.8)"
      ]
    },
    {
      "cell_type": "markdown",
      "id": "9d7afd00",
      "metadata": {
        "id": "9d7afd00"
      },
      "source": [
        "## Trying out Attribute combinations"
      ]
    },
    {
      "cell_type": "code",
      "execution_count": null,
      "id": "abf667b6",
      "metadata": {
        "id": "abf667b6",
        "outputId": "1baa8313-c025-43a6-a5f8-f8647a41dbe9",
        "colab": {
          "base_uri": "https://localhost:8080/"
        }
      },
      "outputs": [
        {
          "output_type": "execute_result",
          "data": {
            "text/plain": [
              "MEDV       1.000000\n",
              "RM         0.680857\n",
              "B          0.361761\n",
              "ZN         0.339741\n",
              "DIS        0.240451\n",
              "CHAS       0.205066\n",
              "AGE       -0.364596\n",
              "RAD       -0.374693\n",
              "CRIM      -0.393715\n",
              "NOX       -0.422873\n",
              "TAX       -0.456657\n",
              "INDUS     -0.473516\n",
              "PTRATIO   -0.493534\n",
              "TAXRM     -0.528626\n",
              "LSTAT     -0.740494\n",
              "Name: MEDV, dtype: float64"
            ]
          },
          "metadata": {},
          "execution_count": 137
        }
      ],
      "source": [
        "housing[\"TAXRM\"]=housing[\"TAX\"]/housing[\"RM\"] #you can try any combination\n",
        "corr_matrix = housing.corr()\n",
        "corr_matrix['MEDV'].sort_values(ascending=False)\n",
        "# finally we are not adding this in our main data for now........"
      ]
    },
    {
      "cell_type": "code",
      "execution_count": null,
      "id": "d88a5253",
      "metadata": {
        "id": "d88a5253"
      },
      "outputs": [],
      "source": [
        "# housing.plot(kind=\"scatter\", x=\"TAXRM\",y=\"MEDV\",alpha=0.8)"
      ]
    },
    {
      "cell_type": "code",
      "execution_count": null,
      "id": "01cdf0cd",
      "metadata": {
        "id": "01cdf0cd"
      },
      "outputs": [],
      "source": [
        "housing = strat_train_set.drop(\"MEDV\", axis=1)\n",
        "housing_labels = strat_train_set[\"MEDV\"].copy()"
      ]
    },
    {
      "cell_type": "markdown",
      "id": "e96e6a90",
      "metadata": {
        "id": "e96e6a90"
      },
      "source": [
        "## Missing attributes"
      ]
    },
    {
      "cell_type": "code",
      "execution_count": null,
      "id": "ebb613d5",
      "metadata": {
        "id": "ebb613d5"
      },
      "outputs": [],
      "source": [
        "# To take care of missing attributes, you have three options:\n",
        "#     1. Get rid of the missing data points\n",
        "#     2. Get rid of the whole attribute\n",
        "#     3. Set the value to some value(0, mean or median)"
      ]
    },
    {
      "cell_type": "code",
      "execution_count": null,
      "id": "726f3763",
      "metadata": {
        "id": "726f3763",
        "outputId": "1b42c877-d0ee-42ff-8a72-dc20c055f97c",
        "colab": {
          "base_uri": "https://localhost:8080/"
        }
      },
      "outputs": [
        {
          "output_type": "execute_result",
          "data": {
            "text/plain": [
              "(399, 13)"
            ]
          },
          "metadata": {},
          "execution_count": 141
        }
      ],
      "source": [
        "a=housing.dropna(subset=[\"RM\"]) # option 1\n",
        "a.shape"
      ]
    },
    {
      "cell_type": "code",
      "execution_count": null,
      "id": "aca69724",
      "metadata": {
        "id": "aca69724",
        "outputId": "ebadbca0-24a1-4ed0-e129-a5347683bc19",
        "colab": {
          "base_uri": "https://localhost:8080/"
        }
      },
      "outputs": [
        {
          "output_type": "execute_result",
          "data": {
            "text/plain": [
              "(404, 12)"
            ]
          },
          "metadata": {},
          "execution_count": 142
        }
      ],
      "source": [
        "housing.drop(\"RM\", axis=1).shape  #option 2\n",
        "# Note that there is no RM column and also note that the original housing dataframe will remain unchanged"
      ]
    },
    {
      "cell_type": "code",
      "execution_count": null,
      "id": "fe2cbc1d",
      "metadata": {
        "id": "fe2cbc1d",
        "outputId": "738a66a2-fdca-46b9-b8a2-e98dd732f881",
        "colab": {
          "base_uri": "https://localhost:8080/"
        }
      },
      "outputs": [
        {
          "output_type": "execute_result",
          "data": {
            "text/plain": [
              "6.209"
            ]
          },
          "metadata": {},
          "execution_count": 143
        }
      ],
      "source": [
        "median = housing[\"RM\"].median()  #option 3\n",
        "median"
      ]
    },
    {
      "cell_type": "code",
      "execution_count": null,
      "id": "5d5eb829",
      "metadata": {
        "id": "5d5eb829",
        "outputId": "32142786-cc4b-4d98-a025-28f1aa24a9e3",
        "colab": {
          "base_uri": "https://localhost:8080/"
        }
      },
      "outputs": [
        {
          "output_type": "execute_result",
          "data": {
            "text/plain": [
              "254    6.108\n",
              "348    6.635\n",
              "476    6.484\n",
              "321    6.376\n",
              "326    6.312\n",
              "       ...  \n",
              "155    6.152\n",
              "423    6.103\n",
              "98     7.820\n",
              "455    6.525\n",
              "216    5.888\n",
              "Name: RM, Length: 404, dtype: float64"
            ]
          },
          "metadata": {},
          "execution_count": 144
        }
      ],
      "source": [
        "housing[\"RM\"].fillna(median)\n",
        "# Note that the original housing dataframe will remain unchanged"
      ]
    },
    {
      "cell_type": "code",
      "execution_count": null,
      "id": "e4a6a8a2",
      "metadata": {
        "id": "e4a6a8a2",
        "outputId": "bccc2cbd-4b76-44c0-c280-bbbafda963df",
        "colab": {
          "base_uri": "https://localhost:8080/"
        }
      },
      "outputs": [
        {
          "output_type": "execute_result",
          "data": {
            "text/plain": [
              "             CRIM          ZN       INDUS        CHAS         NOX          RM  \\\n",
              "count  404.000000  404.000000  404.000000  404.000000  404.000000  399.000000   \n",
              "mean     3.602814   10.836634   11.344950    0.069307    0.558064    6.279481   \n",
              "std      8.099383   22.150636    6.877817    0.254290    0.116875    0.716784   \n",
              "min      0.006320    0.000000    0.740000    0.000000    0.389000    3.561000   \n",
              "25%      0.086962    0.000000    5.190000    0.000000    0.453000    5.876500   \n",
              "50%      0.286735    0.000000    9.900000    0.000000    0.538000    6.209000   \n",
              "75%      3.731923   12.500000   18.100000    0.000000    0.631000    6.630500   \n",
              "max     73.534100  100.000000   27.740000    1.000000    0.871000    8.780000   \n",
              "\n",
              "              AGE         DIS         RAD         TAX     PTRATIO           B  \\\n",
              "count  404.000000  404.000000  404.000000  404.000000  404.000000  404.000000   \n",
              "mean    69.039851    3.746210    9.735149  412.341584   18.473267  353.392822   \n",
              "std     28.258248    2.099057    8.731259  168.672623    2.129243   96.069235   \n",
              "min      2.900000    1.129600    1.000000  187.000000   13.000000    0.320000   \n",
              "25%     44.850000    2.035975    4.000000  284.000000   17.400000  374.617500   \n",
              "50%     78.200000    3.122200    5.000000  337.000000   19.000000  390.955000   \n",
              "75%     94.100000    5.100400   24.000000  666.000000   20.200000  395.630000   \n",
              "max    100.000000   12.126500   24.000000  711.000000   22.000000  396.900000   \n",
              "\n",
              "            LSTAT  \n",
              "count  404.000000  \n",
              "mean    12.791609  \n",
              "std      7.235740  \n",
              "min      1.730000  \n",
              "25%      6.847500  \n",
              "50%     11.570000  \n",
              "75%     17.102500  \n",
              "max     36.980000  "
            ],
            "text/html": [
              "\n",
              "  <div id=\"df-902e5800-73ed-4fa8-8481-ba0ba077794c\">\n",
              "    <div class=\"colab-df-container\">\n",
              "      <div>\n",
              "<style scoped>\n",
              "    .dataframe tbody tr th:only-of-type {\n",
              "        vertical-align: middle;\n",
              "    }\n",
              "\n",
              "    .dataframe tbody tr th {\n",
              "        vertical-align: top;\n",
              "    }\n",
              "\n",
              "    .dataframe thead th {\n",
              "        text-align: right;\n",
              "    }\n",
              "</style>\n",
              "<table border=\"1\" class=\"dataframe\">\n",
              "  <thead>\n",
              "    <tr style=\"text-align: right;\">\n",
              "      <th></th>\n",
              "      <th>CRIM</th>\n",
              "      <th>ZN</th>\n",
              "      <th>INDUS</th>\n",
              "      <th>CHAS</th>\n",
              "      <th>NOX</th>\n",
              "      <th>RM</th>\n",
              "      <th>AGE</th>\n",
              "      <th>DIS</th>\n",
              "      <th>RAD</th>\n",
              "      <th>TAX</th>\n",
              "      <th>PTRATIO</th>\n",
              "      <th>B</th>\n",
              "      <th>LSTAT</th>\n",
              "    </tr>\n",
              "  </thead>\n",
              "  <tbody>\n",
              "    <tr>\n",
              "      <th>count</th>\n",
              "      <td>404.000000</td>\n",
              "      <td>404.000000</td>\n",
              "      <td>404.000000</td>\n",
              "      <td>404.000000</td>\n",
              "      <td>404.000000</td>\n",
              "      <td>399.000000</td>\n",
              "      <td>404.000000</td>\n",
              "      <td>404.000000</td>\n",
              "      <td>404.000000</td>\n",
              "      <td>404.000000</td>\n",
              "      <td>404.000000</td>\n",
              "      <td>404.000000</td>\n",
              "      <td>404.000000</td>\n",
              "    </tr>\n",
              "    <tr>\n",
              "      <th>mean</th>\n",
              "      <td>3.602814</td>\n",
              "      <td>10.836634</td>\n",
              "      <td>11.344950</td>\n",
              "      <td>0.069307</td>\n",
              "      <td>0.558064</td>\n",
              "      <td>6.279481</td>\n",
              "      <td>69.039851</td>\n",
              "      <td>3.746210</td>\n",
              "      <td>9.735149</td>\n",
              "      <td>412.341584</td>\n",
              "      <td>18.473267</td>\n",
              "      <td>353.392822</td>\n",
              "      <td>12.791609</td>\n",
              "    </tr>\n",
              "    <tr>\n",
              "      <th>std</th>\n",
              "      <td>8.099383</td>\n",
              "      <td>22.150636</td>\n",
              "      <td>6.877817</td>\n",
              "      <td>0.254290</td>\n",
              "      <td>0.116875</td>\n",
              "      <td>0.716784</td>\n",
              "      <td>28.258248</td>\n",
              "      <td>2.099057</td>\n",
              "      <td>8.731259</td>\n",
              "      <td>168.672623</td>\n",
              "      <td>2.129243</td>\n",
              "      <td>96.069235</td>\n",
              "      <td>7.235740</td>\n",
              "    </tr>\n",
              "    <tr>\n",
              "      <th>min</th>\n",
              "      <td>0.006320</td>\n",
              "      <td>0.000000</td>\n",
              "      <td>0.740000</td>\n",
              "      <td>0.000000</td>\n",
              "      <td>0.389000</td>\n",
              "      <td>3.561000</td>\n",
              "      <td>2.900000</td>\n",
              "      <td>1.129600</td>\n",
              "      <td>1.000000</td>\n",
              "      <td>187.000000</td>\n",
              "      <td>13.000000</td>\n",
              "      <td>0.320000</td>\n",
              "      <td>1.730000</td>\n",
              "    </tr>\n",
              "    <tr>\n",
              "      <th>25%</th>\n",
              "      <td>0.086962</td>\n",
              "      <td>0.000000</td>\n",
              "      <td>5.190000</td>\n",
              "      <td>0.000000</td>\n",
              "      <td>0.453000</td>\n",
              "      <td>5.876500</td>\n",
              "      <td>44.850000</td>\n",
              "      <td>2.035975</td>\n",
              "      <td>4.000000</td>\n",
              "      <td>284.000000</td>\n",
              "      <td>17.400000</td>\n",
              "      <td>374.617500</td>\n",
              "      <td>6.847500</td>\n",
              "    </tr>\n",
              "    <tr>\n",
              "      <th>50%</th>\n",
              "      <td>0.286735</td>\n",
              "      <td>0.000000</td>\n",
              "      <td>9.900000</td>\n",
              "      <td>0.000000</td>\n",
              "      <td>0.538000</td>\n",
              "      <td>6.209000</td>\n",
              "      <td>78.200000</td>\n",
              "      <td>3.122200</td>\n",
              "      <td>5.000000</td>\n",
              "      <td>337.000000</td>\n",
              "      <td>19.000000</td>\n",
              "      <td>390.955000</td>\n",
              "      <td>11.570000</td>\n",
              "    </tr>\n",
              "    <tr>\n",
              "      <th>75%</th>\n",
              "      <td>3.731923</td>\n",
              "      <td>12.500000</td>\n",
              "      <td>18.100000</td>\n",
              "      <td>0.000000</td>\n",
              "      <td>0.631000</td>\n",
              "      <td>6.630500</td>\n",
              "      <td>94.100000</td>\n",
              "      <td>5.100400</td>\n",
              "      <td>24.000000</td>\n",
              "      <td>666.000000</td>\n",
              "      <td>20.200000</td>\n",
              "      <td>395.630000</td>\n",
              "      <td>17.102500</td>\n",
              "    </tr>\n",
              "    <tr>\n",
              "      <th>max</th>\n",
              "      <td>73.534100</td>\n",
              "      <td>100.000000</td>\n",
              "      <td>27.740000</td>\n",
              "      <td>1.000000</td>\n",
              "      <td>0.871000</td>\n",
              "      <td>8.780000</td>\n",
              "      <td>100.000000</td>\n",
              "      <td>12.126500</td>\n",
              "      <td>24.000000</td>\n",
              "      <td>711.000000</td>\n",
              "      <td>22.000000</td>\n",
              "      <td>396.900000</td>\n",
              "      <td>36.980000</td>\n",
              "    </tr>\n",
              "  </tbody>\n",
              "</table>\n",
              "</div>\n",
              "      <button class=\"colab-df-convert\" onclick=\"convertToInteractive('df-902e5800-73ed-4fa8-8481-ba0ba077794c')\"\n",
              "              title=\"Convert this dataframe to an interactive table.\"\n",
              "              style=\"display:none;\">\n",
              "        \n",
              "  <svg xmlns=\"http://www.w3.org/2000/svg\" height=\"24px\"viewBox=\"0 0 24 24\"\n",
              "       width=\"24px\">\n",
              "    <path d=\"M0 0h24v24H0V0z\" fill=\"none\"/>\n",
              "    <path d=\"M18.56 5.44l.94 2.06.94-2.06 2.06-.94-2.06-.94-.94-2.06-.94 2.06-2.06.94zm-11 1L8.5 8.5l.94-2.06 2.06-.94-2.06-.94L8.5 2.5l-.94 2.06-2.06.94zm10 10l.94 2.06.94-2.06 2.06-.94-2.06-.94-.94-2.06-.94 2.06-2.06.94z\"/><path d=\"M17.41 7.96l-1.37-1.37c-.4-.4-.92-.59-1.43-.59-.52 0-1.04.2-1.43.59L10.3 9.45l-7.72 7.72c-.78.78-.78 2.05 0 2.83L4 21.41c.39.39.9.59 1.41.59.51 0 1.02-.2 1.41-.59l7.78-7.78 2.81-2.81c.8-.78.8-2.07 0-2.86zM5.41 20L4 18.59l7.72-7.72 1.47 1.35L5.41 20z\"/>\n",
              "  </svg>\n",
              "      </button>\n",
              "      \n",
              "  <style>\n",
              "    .colab-df-container {\n",
              "      display:flex;\n",
              "      flex-wrap:wrap;\n",
              "      gap: 12px;\n",
              "    }\n",
              "\n",
              "    .colab-df-convert {\n",
              "      background-color: #E8F0FE;\n",
              "      border: none;\n",
              "      border-radius: 50%;\n",
              "      cursor: pointer;\n",
              "      display: none;\n",
              "      fill: #1967D2;\n",
              "      height: 32px;\n",
              "      padding: 0 0 0 0;\n",
              "      width: 32px;\n",
              "    }\n",
              "\n",
              "    .colab-df-convert:hover {\n",
              "      background-color: #E2EBFA;\n",
              "      box-shadow: 0px 1px 2px rgba(60, 64, 67, 0.3), 0px 1px 3px 1px rgba(60, 64, 67, 0.15);\n",
              "      fill: #174EA6;\n",
              "    }\n",
              "\n",
              "    [theme=dark] .colab-df-convert {\n",
              "      background-color: #3B4455;\n",
              "      fill: #D2E3FC;\n",
              "    }\n",
              "\n",
              "    [theme=dark] .colab-df-convert:hover {\n",
              "      background-color: #434B5C;\n",
              "      box-shadow: 0px 1px 3px 1px rgba(0, 0, 0, 0.15);\n",
              "      filter: drop-shadow(0px 1px 2px rgba(0, 0, 0, 0.3));\n",
              "      fill: #FFFFFF;\n",
              "    }\n",
              "  </style>\n",
              "\n",
              "      <script>\n",
              "        const buttonEl =\n",
              "          document.querySelector('#df-902e5800-73ed-4fa8-8481-ba0ba077794c button.colab-df-convert');\n",
              "        buttonEl.style.display =\n",
              "          google.colab.kernel.accessAllowed ? 'block' : 'none';\n",
              "\n",
              "        async function convertToInteractive(key) {\n",
              "          const element = document.querySelector('#df-902e5800-73ed-4fa8-8481-ba0ba077794c');\n",
              "          const dataTable =\n",
              "            await google.colab.kernel.invokeFunction('convertToInteractive',\n",
              "                                                     [key], {});\n",
              "          if (!dataTable) return;\n",
              "\n",
              "          const docLinkHtml = 'Like what you see? Visit the ' +\n",
              "            '<a target=\"_blank\" href=https://colab.research.google.com/notebooks/data_table.ipynb>data table notebook</a>'\n",
              "            + ' to learn more about interactive tables.';\n",
              "          element.innerHTML = '';\n",
              "          dataTable['output_type'] = 'display_data';\n",
              "          await google.colab.output.renderOutput(dataTable, element);\n",
              "          const docLink = document.createElement('div');\n",
              "          docLink.innerHTML = docLinkHtml;\n",
              "          element.appendChild(docLink);\n",
              "        }\n",
              "      </script>\n",
              "    </div>\n",
              "  </div>\n",
              "  "
            ]
          },
          "metadata": {},
          "execution_count": 145
        }
      ],
      "source": [
        "housing.describe()    # before we started filling missing attributes"
      ]
    },
    {
      "cell_type": "code",
      "execution_count": null,
      "id": "4ef43526",
      "metadata": {
        "id": "4ef43526",
        "outputId": "5e69c454-4d57-4fb4-abbc-6d6af0adf377",
        "colab": {
          "base_uri": "https://localhost:8080/"
        }
      },
      "outputs": [
        {
          "output_type": "execute_result",
          "data": {
            "text/plain": [
              "SimpleImputer(strategy='median')"
            ]
          },
          "metadata": {},
          "execution_count": 146
        }
      ],
      "source": [
        "#for reflecting the changes in original train and test data i.e, null alues to median\n",
        "from sklearn.impute import SimpleImputer\n",
        "imputer = SimpleImputer(strategy=\"median\")\n",
        "imputer.fit(housing)"
      ]
    },
    {
      "cell_type": "code",
      "execution_count": null,
      "id": "7f2ded9a",
      "metadata": {
        "id": "7f2ded9a",
        "outputId": "47d880c1-db7f-4045-9394-e5591a2f3a16",
        "colab": {
          "base_uri": "https://localhost:8080/"
        }
      },
      "outputs": [
        {
          "output_type": "execute_result",
          "data": {
            "text/plain": [
              "array([2.86735e-01, 0.00000e+00, 9.90000e+00, 0.00000e+00, 5.38000e-01,\n",
              "       6.20900e+00, 7.82000e+01, 3.12220e+00, 5.00000e+00, 3.37000e+02,\n",
              "       1.90000e+01, 3.90955e+02, 1.15700e+01])"
            ]
          },
          "metadata": {},
          "execution_count": 147
        }
      ],
      "source": [
        "imputer.statistics_    # calculates for every row and automatically fills"
      ]
    },
    {
      "cell_type": "code",
      "execution_count": null,
      "id": "1b82ea65",
      "metadata": {
        "id": "1b82ea65"
      },
      "outputs": [],
      "source": [
        "X = imputer.transform(housing)"
      ]
    },
    {
      "cell_type": "code",
      "execution_count": null,
      "id": "f03da5ae",
      "metadata": {
        "id": "f03da5ae"
      },
      "outputs": [],
      "source": [
        "housing_tr = pd.DataFrame(X, columns=housing.columns)"
      ]
    },
    {
      "cell_type": "code",
      "execution_count": null,
      "id": "d2f5b21f",
      "metadata": {
        "id": "d2f5b21f",
        "outputId": "0ac67bf9-1c83-434f-bd17-af9f72d47000",
        "colab": {
          "base_uri": "https://localhost:8080/"
        }
      },
      "outputs": [
        {
          "output_type": "execute_result",
          "data": {
            "text/plain": [
              "             CRIM          ZN       INDUS        CHAS         NOX          RM  \\\n",
              "count  404.000000  404.000000  404.000000  404.000000  404.000000  404.000000   \n",
              "mean     3.602814   10.836634   11.344950    0.069307    0.558064    6.278609   \n",
              "std      8.099383   22.150636    6.877817    0.254290    0.116875    0.712366   \n",
              "min      0.006320    0.000000    0.740000    0.000000    0.389000    3.561000   \n",
              "25%      0.086962    0.000000    5.190000    0.000000    0.453000    5.878750   \n",
              "50%      0.286735    0.000000    9.900000    0.000000    0.538000    6.209000   \n",
              "75%      3.731923   12.500000   18.100000    0.000000    0.631000    6.630000   \n",
              "max     73.534100  100.000000   27.740000    1.000000    0.871000    8.780000   \n",
              "\n",
              "              AGE         DIS         RAD         TAX     PTRATIO           B  \\\n",
              "count  404.000000  404.000000  404.000000  404.000000  404.000000  404.000000   \n",
              "mean    69.039851    3.746210    9.735149  412.341584   18.473267  353.392822   \n",
              "std     28.258248    2.099057    8.731259  168.672623    2.129243   96.069235   \n",
              "min      2.900000    1.129600    1.000000  187.000000   13.000000    0.320000   \n",
              "25%     44.850000    2.035975    4.000000  284.000000   17.400000  374.617500   \n",
              "50%     78.200000    3.122200    5.000000  337.000000   19.000000  390.955000   \n",
              "75%     94.100000    5.100400   24.000000  666.000000   20.200000  395.630000   \n",
              "max    100.000000   12.126500   24.000000  711.000000   22.000000  396.900000   \n",
              "\n",
              "            LSTAT  \n",
              "count  404.000000  \n",
              "mean    12.791609  \n",
              "std      7.235740  \n",
              "min      1.730000  \n",
              "25%      6.847500  \n",
              "50%     11.570000  \n",
              "75%     17.102500  \n",
              "max     36.980000  "
            ],
            "text/html": [
              "\n",
              "  <div id=\"df-b02c5146-af74-4f8e-a5f4-72fe726011bd\">\n",
              "    <div class=\"colab-df-container\">\n",
              "      <div>\n",
              "<style scoped>\n",
              "    .dataframe tbody tr th:only-of-type {\n",
              "        vertical-align: middle;\n",
              "    }\n",
              "\n",
              "    .dataframe tbody tr th {\n",
              "        vertical-align: top;\n",
              "    }\n",
              "\n",
              "    .dataframe thead th {\n",
              "        text-align: right;\n",
              "    }\n",
              "</style>\n",
              "<table border=\"1\" class=\"dataframe\">\n",
              "  <thead>\n",
              "    <tr style=\"text-align: right;\">\n",
              "      <th></th>\n",
              "      <th>CRIM</th>\n",
              "      <th>ZN</th>\n",
              "      <th>INDUS</th>\n",
              "      <th>CHAS</th>\n",
              "      <th>NOX</th>\n",
              "      <th>RM</th>\n",
              "      <th>AGE</th>\n",
              "      <th>DIS</th>\n",
              "      <th>RAD</th>\n",
              "      <th>TAX</th>\n",
              "      <th>PTRATIO</th>\n",
              "      <th>B</th>\n",
              "      <th>LSTAT</th>\n",
              "    </tr>\n",
              "  </thead>\n",
              "  <tbody>\n",
              "    <tr>\n",
              "      <th>count</th>\n",
              "      <td>404.000000</td>\n",
              "      <td>404.000000</td>\n",
              "      <td>404.000000</td>\n",
              "      <td>404.000000</td>\n",
              "      <td>404.000000</td>\n",
              "      <td>404.000000</td>\n",
              "      <td>404.000000</td>\n",
              "      <td>404.000000</td>\n",
              "      <td>404.000000</td>\n",
              "      <td>404.000000</td>\n",
              "      <td>404.000000</td>\n",
              "      <td>404.000000</td>\n",
              "      <td>404.000000</td>\n",
              "    </tr>\n",
              "    <tr>\n",
              "      <th>mean</th>\n",
              "      <td>3.602814</td>\n",
              "      <td>10.836634</td>\n",
              "      <td>11.344950</td>\n",
              "      <td>0.069307</td>\n",
              "      <td>0.558064</td>\n",
              "      <td>6.278609</td>\n",
              "      <td>69.039851</td>\n",
              "      <td>3.746210</td>\n",
              "      <td>9.735149</td>\n",
              "      <td>412.341584</td>\n",
              "      <td>18.473267</td>\n",
              "      <td>353.392822</td>\n",
              "      <td>12.791609</td>\n",
              "    </tr>\n",
              "    <tr>\n",
              "      <th>std</th>\n",
              "      <td>8.099383</td>\n",
              "      <td>22.150636</td>\n",
              "      <td>6.877817</td>\n",
              "      <td>0.254290</td>\n",
              "      <td>0.116875</td>\n",
              "      <td>0.712366</td>\n",
              "      <td>28.258248</td>\n",
              "      <td>2.099057</td>\n",
              "      <td>8.731259</td>\n",
              "      <td>168.672623</td>\n",
              "      <td>2.129243</td>\n",
              "      <td>96.069235</td>\n",
              "      <td>7.235740</td>\n",
              "    </tr>\n",
              "    <tr>\n",
              "      <th>min</th>\n",
              "      <td>0.006320</td>\n",
              "      <td>0.000000</td>\n",
              "      <td>0.740000</td>\n",
              "      <td>0.000000</td>\n",
              "      <td>0.389000</td>\n",
              "      <td>3.561000</td>\n",
              "      <td>2.900000</td>\n",
              "      <td>1.129600</td>\n",
              "      <td>1.000000</td>\n",
              "      <td>187.000000</td>\n",
              "      <td>13.000000</td>\n",
              "      <td>0.320000</td>\n",
              "      <td>1.730000</td>\n",
              "    </tr>\n",
              "    <tr>\n",
              "      <th>25%</th>\n",
              "      <td>0.086962</td>\n",
              "      <td>0.000000</td>\n",
              "      <td>5.190000</td>\n",
              "      <td>0.000000</td>\n",
              "      <td>0.453000</td>\n",
              "      <td>5.878750</td>\n",
              "      <td>44.850000</td>\n",
              "      <td>2.035975</td>\n",
              "      <td>4.000000</td>\n",
              "      <td>284.000000</td>\n",
              "      <td>17.400000</td>\n",
              "      <td>374.617500</td>\n",
              "      <td>6.847500</td>\n",
              "    </tr>\n",
              "    <tr>\n",
              "      <th>50%</th>\n",
              "      <td>0.286735</td>\n",
              "      <td>0.000000</td>\n",
              "      <td>9.900000</td>\n",
              "      <td>0.000000</td>\n",
              "      <td>0.538000</td>\n",
              "      <td>6.209000</td>\n",
              "      <td>78.200000</td>\n",
              "      <td>3.122200</td>\n",
              "      <td>5.000000</td>\n",
              "      <td>337.000000</td>\n",
              "      <td>19.000000</td>\n",
              "      <td>390.955000</td>\n",
              "      <td>11.570000</td>\n",
              "    </tr>\n",
              "    <tr>\n",
              "      <th>75%</th>\n",
              "      <td>3.731923</td>\n",
              "      <td>12.500000</td>\n",
              "      <td>18.100000</td>\n",
              "      <td>0.000000</td>\n",
              "      <td>0.631000</td>\n",
              "      <td>6.630000</td>\n",
              "      <td>94.100000</td>\n",
              "      <td>5.100400</td>\n",
              "      <td>24.000000</td>\n",
              "      <td>666.000000</td>\n",
              "      <td>20.200000</td>\n",
              "      <td>395.630000</td>\n",
              "      <td>17.102500</td>\n",
              "    </tr>\n",
              "    <tr>\n",
              "      <th>max</th>\n",
              "      <td>73.534100</td>\n",
              "      <td>100.000000</td>\n",
              "      <td>27.740000</td>\n",
              "      <td>1.000000</td>\n",
              "      <td>0.871000</td>\n",
              "      <td>8.780000</td>\n",
              "      <td>100.000000</td>\n",
              "      <td>12.126500</td>\n",
              "      <td>24.000000</td>\n",
              "      <td>711.000000</td>\n",
              "      <td>22.000000</td>\n",
              "      <td>396.900000</td>\n",
              "      <td>36.980000</td>\n",
              "    </tr>\n",
              "  </tbody>\n",
              "</table>\n",
              "</div>\n",
              "      <button class=\"colab-df-convert\" onclick=\"convertToInteractive('df-b02c5146-af74-4f8e-a5f4-72fe726011bd')\"\n",
              "              title=\"Convert this dataframe to an interactive table.\"\n",
              "              style=\"display:none;\">\n",
              "        \n",
              "  <svg xmlns=\"http://www.w3.org/2000/svg\" height=\"24px\"viewBox=\"0 0 24 24\"\n",
              "       width=\"24px\">\n",
              "    <path d=\"M0 0h24v24H0V0z\" fill=\"none\"/>\n",
              "    <path d=\"M18.56 5.44l.94 2.06.94-2.06 2.06-.94-2.06-.94-.94-2.06-.94 2.06-2.06.94zm-11 1L8.5 8.5l.94-2.06 2.06-.94-2.06-.94L8.5 2.5l-.94 2.06-2.06.94zm10 10l.94 2.06.94-2.06 2.06-.94-2.06-.94-.94-2.06-.94 2.06-2.06.94z\"/><path d=\"M17.41 7.96l-1.37-1.37c-.4-.4-.92-.59-1.43-.59-.52 0-1.04.2-1.43.59L10.3 9.45l-7.72 7.72c-.78.78-.78 2.05 0 2.83L4 21.41c.39.39.9.59 1.41.59.51 0 1.02-.2 1.41-.59l7.78-7.78 2.81-2.81c.8-.78.8-2.07 0-2.86zM5.41 20L4 18.59l7.72-7.72 1.47 1.35L5.41 20z\"/>\n",
              "  </svg>\n",
              "      </button>\n",
              "      \n",
              "  <style>\n",
              "    .colab-df-container {\n",
              "      display:flex;\n",
              "      flex-wrap:wrap;\n",
              "      gap: 12px;\n",
              "    }\n",
              "\n",
              "    .colab-df-convert {\n",
              "      background-color: #E8F0FE;\n",
              "      border: none;\n",
              "      border-radius: 50%;\n",
              "      cursor: pointer;\n",
              "      display: none;\n",
              "      fill: #1967D2;\n",
              "      height: 32px;\n",
              "      padding: 0 0 0 0;\n",
              "      width: 32px;\n",
              "    }\n",
              "\n",
              "    .colab-df-convert:hover {\n",
              "      background-color: #E2EBFA;\n",
              "      box-shadow: 0px 1px 2px rgba(60, 64, 67, 0.3), 0px 1px 3px 1px rgba(60, 64, 67, 0.15);\n",
              "      fill: #174EA6;\n",
              "    }\n",
              "\n",
              "    [theme=dark] .colab-df-convert {\n",
              "      background-color: #3B4455;\n",
              "      fill: #D2E3FC;\n",
              "    }\n",
              "\n",
              "    [theme=dark] .colab-df-convert:hover {\n",
              "      background-color: #434B5C;\n",
              "      box-shadow: 0px 1px 3px 1px rgba(0, 0, 0, 0.15);\n",
              "      filter: drop-shadow(0px 1px 2px rgba(0, 0, 0, 0.3));\n",
              "      fill: #FFFFFF;\n",
              "    }\n",
              "  </style>\n",
              "\n",
              "      <script>\n",
              "        const buttonEl =\n",
              "          document.querySelector('#df-b02c5146-af74-4f8e-a5f4-72fe726011bd button.colab-df-convert');\n",
              "        buttonEl.style.display =\n",
              "          google.colab.kernel.accessAllowed ? 'block' : 'none';\n",
              "\n",
              "        async function convertToInteractive(key) {\n",
              "          const element = document.querySelector('#df-b02c5146-af74-4f8e-a5f4-72fe726011bd');\n",
              "          const dataTable =\n",
              "            await google.colab.kernel.invokeFunction('convertToInteractive',\n",
              "                                                     [key], {});\n",
              "          if (!dataTable) return;\n",
              "\n",
              "          const docLinkHtml = 'Like what you see? Visit the ' +\n",
              "            '<a target=\"_blank\" href=https://colab.research.google.com/notebooks/data_table.ipynb>data table notebook</a>'\n",
              "            + ' to learn more about interactive tables.';\n",
              "          element.innerHTML = '';\n",
              "          dataTable['output_type'] = 'display_data';\n",
              "          await google.colab.output.renderOutput(dataTable, element);\n",
              "          const docLink = document.createElement('div');\n",
              "          docLink.innerHTML = docLinkHtml;\n",
              "          element.appendChild(docLink);\n",
              "        }\n",
              "      </script>\n",
              "    </div>\n",
              "  </div>\n",
              "  "
            ]
          },
          "metadata": {},
          "execution_count": 150
        }
      ],
      "source": [
        "housing_tr.describe()"
      ]
    },
    {
      "cell_type": "markdown",
      "id": "8920d06d",
      "metadata": {
        "id": "8920d06d"
      },
      "source": [
        "## Scikit learn Design"
      ]
    },
    {
      "cell_type": "markdown",
      "id": "ba7d6f04",
      "metadata": {
        "id": "ba7d6f04"
      },
      "source": [
        "Primarily, three types of objects\n",
        "\n",
        "1) Estimators - It estimates some parameter based on a dataset. \n",
        "Eg. imputer. It has a fit method and transform method. \n",
        "Fit method - Fits the dataset and calculates internal parameters\n",
        "\n",
        "2) Transformers - transform method takes input and returns output based on the learnings from fit(). \n",
        "It also has a convenience function called fit_transform() which fits and then transforms.\n",
        "\n",
        "3) Predictors - LinearRegression model is an example of predictor. \n",
        "fit() and predict() are two common functions. It also gives score() function which will \n",
        "evaluate the predictions."
      ]
    },
    {
      "cell_type": "markdown",
      "id": "2f92303d",
      "metadata": {
        "id": "2f92303d"
      },
      "source": [
        "## Feature Scaling\n"
      ]
    },
    {
      "cell_type": "markdown",
      "id": "79275cb2",
      "metadata": {
        "id": "79275cb2"
      },
      "source": [
        "Primarily, two types of feature scaling methods:\n",
        "\n",
        "1) Min-max scaling (Normalization) (value - min)/(max - min) \n",
        "Sklearn provides a class called MinMaxScaler for this\n",
        "\n",
        "2) Standardization (value - mean)/std \n",
        "Sklearn provides a class called StandardScaler for this"
      ]
    },
    {
      "cell_type": "markdown",
      "id": "b96aa5a9",
      "metadata": {
        "id": "b96aa5a9"
      },
      "source": [
        "## Creating a pipeline"
      ]
    },
    {
      "cell_type": "code",
      "execution_count": null,
      "id": "3876f93e",
      "metadata": {
        "id": "3876f93e"
      },
      "outputs": [],
      "source": [
        "# instead of doing imputer, directly you can opt for pipeline which automates things\n",
        "from sklearn.pipeline import Pipeline\n",
        "from sklearn.preprocessing import StandardScaler\n",
        "my_pipeline = Pipeline([\n",
        "    ('imputer', SimpleImputer(strategy='median')),\n",
        "#     add as many as you want...\n",
        "    ('std_scaler',StandardScaler())\n",
        "])\n"
      ]
    },
    {
      "cell_type": "code",
      "execution_count": null,
      "id": "1777155f",
      "metadata": {
        "id": "1777155f",
        "outputId": "311ab1eb-dab3-4e0e-aab8-ee03e8e723b8",
        "colab": {
          "base_uri": "https://localhost:8080/"
        }
      },
      "outputs": [
        {
          "output_type": "execute_result",
          "data": {
            "text/plain": [
              "array([[-0.43942006,  3.12628155, -1.12165014, ..., -0.97491834,\n",
              "         0.41164221, -0.86091034],\n",
              "       [-0.44352175,  3.12628155, -1.35893781, ..., -0.69277865,\n",
              "         0.39131918, -0.94116739],\n",
              "       [ 0.15682292, -0.4898311 ,  0.98336806, ...,  0.81196637,\n",
              "         0.44624347,  0.81480158],\n",
              "       ...,\n",
              "       [-0.43525657, -0.4898311 , -1.23083158, ..., -0.22254583,\n",
              "         0.41831233, -1.27603303],\n",
              "       [ 0.14210728, -0.4898311 ,  0.98336806, ...,  0.81196637,\n",
              "        -3.15239177,  0.73869575],\n",
              "       [-0.43974024, -0.4898311 ,  0.37049623, ..., -0.97491834,\n",
              "         0.41070422,  0.09940681]])"
            ]
          },
          "metadata": {},
          "execution_count": 152
        }
      ],
      "source": [
        "housing_num_tr = my_pipeline.fit_transform(housing)\n",
        "housing_num_tr    # this is a numpy array"
      ]
    },
    {
      "cell_type": "markdown",
      "id": "902e7a9e",
      "metadata": {
        "id": "902e7a9e"
      },
      "source": [
        "## Selecting a desired model for the problem"
      ]
    },
    {
      "cell_type": "code",
      "execution_count": null,
      "id": "42c8587f",
      "metadata": {
        "id": "42c8587f",
        "outputId": "c0ecaa49-f97e-4313-f8fe-fc253af59950",
        "colab": {
          "base_uri": "https://localhost:8080/"
        }
      },
      "outputs": [
        {
          "output_type": "execute_result",
          "data": {
            "text/plain": [
              "(404, 13)"
            ]
          },
          "metadata": {},
          "execution_count": 153
        }
      ],
      "source": [
        "from sklearn.linear_model import LinearRegression\n",
        "from sklearn.tree import DecisionTreeRegressor\n",
        "from sklearn.ensemble import RandomForestRegressor\n",
        "# model = LinearRegression()\n",
        "# model = DecisionTreeRegressor()    # this model is bad becouse mse=0, which means it is overfitting\n",
        "model = RandomForestRegressor()\n",
        "model.fit(housing_num_tr, housing_labels)\n",
        "housing_num_tr.shape"
      ]
    },
    {
      "cell_type": "code",
      "execution_count": null,
      "id": "9808d7a5",
      "metadata": {
        "id": "9808d7a5"
      },
      "outputs": [],
      "source": [
        "some_data = housing.iloc[:5]"
      ]
    },
    {
      "cell_type": "code",
      "execution_count": null,
      "id": "94d17e81",
      "metadata": {
        "id": "94d17e81"
      },
      "outputs": [],
      "source": [
        "some_labels = housing_labels.iloc[:5]"
      ]
    },
    {
      "cell_type": "code",
      "execution_count": null,
      "id": "ed157f5a",
      "metadata": {
        "id": "ed157f5a"
      },
      "outputs": [],
      "source": [
        "prepared_data = my_pipeline.transform(some_data)"
      ]
    },
    {
      "cell_type": "code",
      "execution_count": null,
      "id": "f2c3bb6d",
      "metadata": {
        "id": "f2c3bb6d",
        "outputId": "96d84c52-c0dd-4766-bef4-cde5fb8990ac",
        "colab": {
          "base_uri": "https://localhost:8080/"
        }
      },
      "outputs": [
        {
          "output_type": "execute_result",
          "data": {
            "text/plain": [
              "array([22.33 , 25.294, 16.593, 23.293, 23.488])"
            ]
          },
          "metadata": {},
          "execution_count": 157
        }
      ],
      "source": [
        "model.predict(prepared_data)"
      ]
    },
    {
      "cell_type": "code",
      "execution_count": null,
      "id": "5e2b8fcf",
      "metadata": {
        "id": "5e2b8fcf",
        "outputId": "2b9261b2-726b-4407-b5d5-d7185e2e26a6",
        "colab": {
          "base_uri": "https://localhost:8080/"
        }
      },
      "outputs": [
        {
          "output_type": "execute_result",
          "data": {
            "text/plain": [
              "array([21.9, 24.5, 16.7, 23.1, 23. ])"
            ]
          },
          "metadata": {},
          "execution_count": 158
        }
      ],
      "source": [
        "np.array(some_labels)"
      ]
    },
    {
      "cell_type": "markdown",
      "id": "cdcc7e88",
      "metadata": {
        "id": "cdcc7e88"
      },
      "source": [
        "## Evaluating the model"
      ]
    },
    {
      "cell_type": "code",
      "execution_count": null,
      "id": "753ba3eb",
      "metadata": {
        "id": "753ba3eb"
      },
      "outputs": [],
      "source": [
        "from sklearn.metrics import mean_squared_error\n",
        "housing_predictions = model.predict(housing_num_tr)\n",
        "mse = mean_squared_error(housing_labels, housing_predictions)\n",
        "rmse = np.sqrt(mse)"
      ]
    },
    {
      "cell_type": "code",
      "execution_count": null,
      "id": "07a474e2",
      "metadata": {
        "id": "07a474e2",
        "outputId": "76c847a8-512e-44e2-f790-724be9b6f8d8",
        "colab": {
          "base_uri": "https://localhost:8080/"
        }
      },
      "outputs": [
        {
          "output_type": "execute_result",
          "data": {
            "text/plain": [
              "1.199907896630419"
            ]
          },
          "metadata": {},
          "execution_count": 160
        }
      ],
      "source": [
        "rmse"
      ]
    },
    {
      "cell_type": "markdown",
      "id": "96f2d28b",
      "metadata": {
        "id": "96f2d28b"
      },
      "source": [
        "## Using better evaluation techniques - Cross Validation"
      ]
    },
    {
      "cell_type": "code",
      "execution_count": null,
      "id": "f0d9d411",
      "metadata": {
        "id": "f0d9d411"
      },
      "outputs": [],
      "source": [
        "# for eg 1 2 3 4 5 6 7 8 9, firstly it will train expect 1 and check for 1, then repeat it for 2, 3..\n",
        "# so on.. to last value\n",
        "from sklearn.model_selection import cross_val_score\n",
        "scores = cross_val_score(model, housing_num_tr, housing_labels, scoring=\"neg_mean_squared_error\", cv=10)\n",
        "rmse_scores = np.sqrt(-scores)"
      ]
    },
    {
      "cell_type": "code",
      "execution_count": null,
      "id": "5097b079",
      "metadata": {
        "id": "5097b079",
        "outputId": "41d56e07-26fd-456e-e64d-567809e91368",
        "colab": {
          "base_uri": "https://localhost:8080/"
        }
      },
      "outputs": [
        {
          "output_type": "execute_result",
          "data": {
            "text/plain": [
              "array([2.84260562, 3.06814212, 4.32038672, 2.47611691, 3.3029497 ,\n",
              "       2.64951368, 4.69987782, 3.28315354, 3.37916056, 3.16125513])"
            ]
          },
          "metadata": {},
          "execution_count": 162
        }
      ],
      "source": [
        "rmse_scores"
      ]
    },
    {
      "cell_type": "code",
      "execution_count": null,
      "id": "8bb4fff0",
      "metadata": {
        "id": "8bb4fff0"
      },
      "outputs": [],
      "source": [
        "def print_scores(scores):\n",
        "    print(\"Scores:\", scores)\n",
        "    print(\"Mean: \", scores.mean())\n",
        "    print(\"Standard deviation: \", scores.std())"
      ]
    },
    {
      "cell_type": "code",
      "execution_count": null,
      "id": "5c6bb3e2",
      "metadata": {
        "id": "5c6bb3e2",
        "outputId": "75af9e85-33f4-4730-8c62-5675e2855176",
        "colab": {
          "base_uri": "https://localhost:8080/"
        }
      },
      "outputs": [
        {
          "output_type": "stream",
          "name": "stdout",
          "text": [
            "Scores: [2.84260562 3.06814212 4.32038672 2.47611691 3.3029497  2.64951368\n",
            " 4.69987782 3.28315354 3.37916056 3.16125513]\n",
            "Mean:  3.3183161813225426\n",
            "Standard deviation:  0.6624337459128998\n"
          ]
        }
      ],
      "source": [
        "print_scores(rmse_scores)"
      ]
    },
    {
      "cell_type": "markdown",
      "id": "c082bcb2",
      "metadata": {
        "id": "c082bcb2"
      },
      "source": [
        "## Saving the model"
      ]
    },
    {
      "cell_type": "code",
      "execution_count": null,
      "id": "dab9590c",
      "metadata": {
        "id": "dab9590c",
        "outputId": "6797181e-b038-4b4c-91cf-fc60fd75579d",
        "colab": {
          "base_uri": "https://localhost:8080/"
        }
      },
      "outputs": [
        {
          "output_type": "execute_result",
          "data": {
            "text/plain": [
              "['Dragon.joblib']"
            ]
          },
          "metadata": {},
          "execution_count": 165
        }
      ],
      "source": [
        "from joblib import dump, load\n",
        "dump(model, 'Dragon.joblib') "
      ]
    },
    {
      "cell_type": "markdown",
      "id": "c292cf80",
      "metadata": {
        "id": "c292cf80"
      },
      "source": [
        "## Testing the model on test data"
      ]
    },
    {
      "cell_type": "code",
      "execution_count": null,
      "id": "67fb2e47",
      "metadata": {
        "id": "67fb2e47",
        "outputId": "ad4fd966-1878-4463-c14c-e927ae06f36e",
        "colab": {
          "base_uri": "https://localhost:8080/"
        }
      },
      "outputs": [
        {
          "output_type": "stream",
          "name": "stdout",
          "text": [
            "[24.686 11.563 26.005 22.434 18.696 14.932 19.647 14.857 31.88  41.08\n",
            " 19.559 11.463 24.812 29.051 19.597 11.171 31.735 14.312 23.652 18.078\n",
            " 19.703 18.211 17.072 22.122 18.138 31.485 16.22  32.836  9.065 34.001\n",
            " 23.59  21.346 22.951 11.335 20.886 11.23  43.126 24.733 23.296 41.52\n",
            " 24.075 29.629 20.468 21.316 19.19  33.446 43.916 20.101 20.026 21.727\n",
            " 20.966 14.064 20.822 15.201 25.297 32.97  41.682 29.021 19.353 20.72\n",
            " 46.768 10.22  18.977 25.341 14.693 33.412 19.95  17.73  19.161 34.786\n",
            " 26.045 22.671 21.54  21.976 35.653 13.005 16.161 19.963 21.052 21.435\n",
            " 22.495 20.806 14.236 22.706 20.517 20.927 14.587 21.197 21.351 23.442\n",
            " 18.835 26.716  6.945 26.623 18.734 29.885 19.496 31.788 14.47  27.906\n",
            " 21.752 20.605] [16.5, 10.2, 30.1, 23.0, 14.4, 15.6, 19.4, 14.1, 30.3, 35.2, 23.1, 13.8, 25.0, 27.9, 19.5, 12.3, 32.2, 13.5, 23.8, 21.7, 19.2, 19.5, 10.4, 23.2, 18.6, 28.5, 15.2, 32.0, 7.2, 34.6, 20.1, 20.6, 23.6, 13.1, 23.8, 12.7, 43.1, 24.7, 22.2, 44.0, 28.1, 31.0, 21.7, 23.4, 19.5, 33.1, 41.7, 18.7, 19.9, 20.6, 21.2, 13.6, 20.3, 17.8, 27.1, 31.5, 50.0, 29.1, 18.9, 20.4, 50.0, 7.2, 17.2, 36.2, 14.6, 33.2, 23.8, 19.9, 21.5, 37.3, 27.0, 22.0, 24.3, 19.8, 33.3, 7.0, 19.4, 20.9, 21.1, 20.4, 22.2, 11.9, 11.7, 21.6, 19.7, 23.0, 16.7, 21.7, 20.6, 23.3, 19.6, 28.0, 5.0, 24.4, 20.8, 24.8, 21.8, 23.6, 19.0, 25.0, 20.3, 21.5]\n"
          ]
        }
      ],
      "source": [
        "X_test = strat_test_set.drop(\"MEDV\", axis=1)\n",
        "Y_test = strat_test_set[\"MEDV\"].copy()\n",
        "X_test_prepared = my_pipeline.transform(X_test)\n",
        "final_predictions = model.predict(X_test_prepared)\n",
        "final_mse = mean_squared_error(Y_test, final_predictions)\n",
        "final_rmse = np.sqrt(final_mse)\n",
        "print(final_predictions, list(Y_test))"
      ]
    },
    {
      "cell_type": "code",
      "execution_count": null,
      "id": "39dab18f",
      "metadata": {
        "id": "39dab18f",
        "outputId": "bf89326e-4445-412b-b600-2d5c35283e4a",
        "colab": {
          "base_uri": "https://localhost:8080/"
        }
      },
      "outputs": [
        {
          "output_type": "execute_result",
          "data": {
            "text/plain": [
              "2.9217454358921926"
            ]
          },
          "metadata": {},
          "execution_count": 167
        }
      ],
      "source": [
        "final_rmse"
      ]
    },
    {
      "cell_type": "code",
      "execution_count": null,
      "id": "002a51a5",
      "metadata": {
        "id": "002a51a5",
        "outputId": "cca235fe-6047-466b-c07e-aa065694a684",
        "colab": {
          "base_uri": "https://localhost:8080/"
        }
      },
      "outputs": [
        {
          "output_type": "execute_result",
          "data": {
            "text/plain": [
              "array([-0.43942006,  3.12628155, -1.12165014, -0.27288841, -1.42262747,\n",
              "       -0.23979304, -1.31238772,  2.61111401, -1.0016859 , -0.5778192 ,\n",
              "       -0.97491834,  0.41164221, -0.86091034])"
            ]
          },
          "metadata": {},
          "execution_count": 168
        }
      ],
      "source": [
        "prepared_data[0]"
      ]
    },
    {
      "cell_type": "markdown",
      "id": "cb62359a",
      "metadata": {
        "id": "cb62359a"
      },
      "source": [
        "## Using the model"
      ]
    },
    {
      "cell_type": "code",
      "execution_count": null,
      "id": "3d6b86df",
      "metadata": {
        "id": "3d6b86df",
        "outputId": "f332fff4-17cf-439b-915f-26737ae7ad2d",
        "colab": {
          "base_uri": "https://localhost:8080/"
        }
      },
      "outputs": [
        {
          "output_type": "stream",
          "name": "stdout",
          "text": [
            "[24.554]\n"
          ]
        }
      ],
      "source": [
        "from joblib import dump, load\n",
        "import numpy as np\n",
        "model = load('Dragon.joblib') \n",
        "features = np.array([[-5.43942006, 4.12628155, -1.6165014, -0.67288841, -1.42262747,\n",
        "       -11.44443979304, -7.31238772,  7.61111401, -26.0016879 , -0.5778192 ,\n",
        "       -0.97491834,  0.41164221, -66.86091034]])\n",
        "print(model.predict(features))"
      ]
    },
    {
      "cell_type": "code",
      "execution_count": null,
      "id": "3722b9f8",
      "metadata": {
        "id": "3722b9f8"
      },
      "outputs": [],
      "source": [
        ""
      ]
    }
  ],
  "metadata": {
    "kernelspec": {
      "display_name": "Python 3",
      "language": "python",
      "name": "python3"
    },
    "language_info": {
      "codemirror_mode": {
        "name": "ipython",
        "version": 3
      },
      "file_extension": ".py",
      "mimetype": "text/x-python",
      "name": "python",
      "nbconvert_exporter": "python",
      "pygments_lexer": "ipython3",
      "version": "3.8.4"
    },
    "colab": {
      "name": "ML project1 dragon real estate.ipynb",
      "provenance": []
    }
  },
  "nbformat": 4,
  "nbformat_minor": 5
}